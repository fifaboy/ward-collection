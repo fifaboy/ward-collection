{
 "cells": [
  {
   "cell_type": "code",
   "execution_count": 1,
   "metadata": {},
   "outputs": [],
   "source": [
    "import os\n",
    "\n",
    "from os.path import join"
   ]
  },
  {
   "cell_type": "code",
   "execution_count": 2,
   "metadata": {},
   "outputs": [],
   "source": [
    "pwd = os.getcwd()\n",
    "datadir = join(pwd, '../')\n",
    "files = os.listdir(datadir)\n",
    "files_valid = []\n",
    "for file in files:\n",
    "    if file.endswith('.pdf'):\n",
    "        files_valid.append(file)"
   ]
  },
  {
   "cell_type": "code",
   "execution_count": 3,
   "metadata": {},
   "outputs": [
    {
     "name": "stdout",
     "output_type": "stream",
     "text": [
      "68\n"
     ]
    }
   ],
   "source": [
    "print(len(files_valid))"
   ]
  },
  {
   "cell_type": "code",
   "execution_count": 4,
   "metadata": {},
   "outputs": [],
   "source": [
    "chapter = 0\n",
    "f = open('commands.txt', 'w')\n",
    "l = len(files_valid)\n",
    "for i in range(l):\n",
    "    chp = int(files_valid[i][:4])\n",
    "    if chp != chapter:\n",
    "        chapter = chp\n",
    "        f.write('\\chapter{'+str(chapter)+'}\\n')\n",
    "    f.write('\\includepdf[pages={-}]{'+files_valid[i]+'}\\n')\n",
    "f.close()"
   ]
  }
 ],
 "metadata": {
  "kernelspec": {
   "display_name": "Python 3",
   "language": "python",
   "name": "python3"
  },
  "language_info": {
   "codemirror_mode": {
    "name": "ipython",
    "version": 3
   },
   "file_extension": ".py",
   "mimetype": "text/x-python",
   "name": "python",
   "nbconvert_exporter": "python",
   "pygments_lexer": "ipython3",
   "version": "3.7.6"
  }
 },
 "nbformat": 4,
 "nbformat_minor": 2
}
